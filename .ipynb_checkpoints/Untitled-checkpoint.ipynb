{
 "cells": [
  {
   "cell_type": "code",
   "execution_count": null,
   "id": "0ff5431e-f380-4666-9b5b-aab0bfa25e78",
   "metadata": {},
   "outputs": [],
   "source": []
  }
 ],
 "metadata": {
  "kernelspec": {
   "display_name": "",
   "name": ""
  },
  "language_info": {
   "name": ""
  }
 },
 "nbformat": 4,
 "nbformat_minor": 5
}
